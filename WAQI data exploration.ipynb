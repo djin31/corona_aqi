{
 "cells": [
  {
   "cell_type": "code",
   "execution_count": 1,
   "metadata": {},
   "outputs": [],
   "source": [
    "import pandas as pd\n",
    "import numpy as np\n",
    "from functools import reduce\n",
    "import matplotlib.pyplot as plt\n",
    "\n",
    "from pandas.plotting import register_matplotlib_converters\n",
    "register_matplotlib_converters()"
   ]
  },
  {
   "cell_type": "markdown",
   "metadata": {},
   "source": [
    "### Data Formatting"
   ]
  },
  {
   "cell_type": "code",
   "execution_count": 74,
   "metadata": {},
   "outputs": [],
   "source": [
    "begin_date_template = \"-01-01\"\n",
    "end_date_template = \"-04-19\"\n",
    "\n",
    "def format_data(df, year):\n",
    "    df[\"Date\"] = pd.to_datetime(df[\"Date\"])\n",
    "    begin_date = pd.to_datetime(year+begin_date_template)\n",
    "    end_date = pd.to_datetime(year+end_date_template)\n",
    "    df.loc[(df[\"Date\"]>=begin_date) & (df[\"Date\"]<=end_date)].to_csv(\"processed_data/aqi_{}.csv\".format(year),index=False)"
   ]
  },
  {
   "cell_type": "code",
   "execution_count": 75,
   "metadata": {},
   "outputs": [],
   "source": [
    "aqi_20_data = pd.read_csv(\"raw_data/waqi-covid19-airqualitydata-2020.csv\")\n",
    "format_data(aqi_20_data,\"2020\")\n",
    "del aqi_20_data"
   ]
  },
  {
   "cell_type": "code",
   "execution_count": 76,
   "metadata": {},
   "outputs": [],
   "source": [
    "aqi_19_q1 = pd.read_csv(\"raw_data/waqi-covid19-airqualitydata-2019Q1.csv\")\n",
    "aqi_19_q2 = pd.read_csv(\"raw_data/waqi-covid19-airqualitydata-2019Q2.csv\")\n",
    "aqi_19_data = pd.concat([aqi_19_q1,aqi_19_q2])\n",
    "format_data(aqi_19_data,\"2019\")\n",
    "del aqi_19_data, aqi_19_q1, aqi_19_q2"
   ]
  },
  {
   "cell_type": "code",
   "execution_count": 77,
   "metadata": {},
   "outputs": [],
   "source": [
    "for year in [\"2015\",\"2016\",\"2017\",\"2018\"]:\n",
    "    df = pd.read_csv(\"raw_data/waqi-covid19-airqualitydata-{}H1.csv\".format(year))\n",
    "    format_data(df,year)"
   ]
  },
  {
   "cell_type": "markdown",
   "metadata": {},
   "source": [
    "### Data Visualization"
   ]
  },
  {
   "cell_type": "code",
   "execution_count": 2,
   "metadata": {},
   "outputs": [],
   "source": [
    "def get_city_specie_data(city, pollutant, years=[\"2015\",\"2016\",\"2017\",\"2018\",\"2019\",\"2020\"]):\n",
    "    yearwise_data = []\n",
    "    for year in years:\n",
    "        df = pd.read_csv(\"processed_data/aqi_{}.csv\".format(year))\n",
    "        df = df.loc[(df[\"City\"]==city) & (df[\"Specie\"]==pollutant)]\n",
    "        date = pd.DatetimeIndex(df[\"Date\"])\n",
    "        df[\"Month\"] = date.month\n",
    "        df[\"Day\"] = date.day\n",
    "        data = pd.DataFrame({\n",
    "                             \"Month\":df[\"Month\"],\n",
    "                             \"Day\":df[\"Day\"],\n",
    "                             year:df[\"median\"]\n",
    "                            }).reset_index(drop=True)\n",
    "        yearwise_data.append(data)\n",
    "    yearwise_data = reduce(lambda x, y: pd.merge(x, y, on = ['Month','Day'],how=\"outer\"), yearwise_data)\n",
    "    yearwise_data[\"Year\"]=2020\n",
    "    yearwise_data[\"Date\"] = pd.to_datetime(yearwise_data[[\"Year\",\"Month\",\"Day\"]])\n",
    "    yearwise_data.drop(axis=1, columns=[\"Year\",\"Month\",\"Day\"],inplace=True)\n",
    "    yearwise_data.sort_values(\"Date\",inplace=True)\n",
    "    return yearwise_data[[\"Date\"]+years].reset_index(drop=True)"
   ]
  },
  {
   "cell_type": "code",
   "execution_count": 3,
   "metadata": {},
   "outputs": [],
   "source": [
    "z = get_city_specie_data(\"Delhi\",\"pm25\")"
   ]
  },
  {
   "cell_type": "code",
   "execution_count": 6,
   "metadata": {},
   "outputs": [
    {
     "data": {
      "image/png": "[encoded data removed]",
      "text/plain": [
       "<Figure size 432x288 with 1 Axes>"
      ]
     },
     "metadata": {
      "needs_background": "light"
     },
     "output_type": "display_data"
    }
   ],
   "source": [
    "plt.plot_date(z[\"Date\"],z[\"2018\"],label=\"2018\")\n",
    "plt.plot_date(z[\"Date\"],z[\"2019\"],label=\"2019\")\n",
    "plt.plot_date(z[\"Date\"],z[\"2020\"],label=\"2020\")\n",
    "plt.legend()\n",
    "plt.gcf().autofmt_xdate()"
   ]
  },
  {
   "cell_type": "code",
   "execution_count": null,
   "metadata": {},
   "outputs": [],
   "source": []
  }
 ],
 "metadata": {
  "kernelspec": {
   "display_name": "Python 3",
   "language": "python",
   "name": "python3"
  },
  "language_info": {
   "codemirror_mode": {
    "name": "ipython",
    "version": 3
   },
   "file_extension": ".py",
   "mimetype": "text/x-python",
   "name": "python",
   "nbconvert_exporter": "python",
   "pygments_lexer": "ipython3",
   "version": "3.7.4"
  }
 },
 "nbformat": 4,
 "nbformat_minor": 2
}
